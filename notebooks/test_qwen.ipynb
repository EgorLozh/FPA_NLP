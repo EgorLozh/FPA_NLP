{
 "cells": [
  {
   "cell_type": "code",
   "execution_count": 11,
   "metadata": {},
   "outputs": [
    {
     "data": {
      "text/plain": [
       "WindowsPath('C:/Users/egor/files/projects/FPA_NLP/models')"
      ]
     },
     "execution_count": 11,
     "metadata": {},
     "output_type": "execute_result"
    }
   ],
   "source": [
    "from transformers import AutoModelForCausalLM, AutoTokenizer\n",
    "import pathlib\n",
    "model_dir = pathlib.Path().resolve().parent/\"models\"\n",
    "model_name = \"Qwen/Qwen2.5-0.5B-Instruct\"\\\n",
    "\n",
    "model_dir"
   ]
  },
  {
   "cell_type": "code",
   "execution_count": 12,
   "metadata": {},
   "outputs": [],
   "source": [
    "model = AutoModelForCausalLM.from_pretrained(\n",
    "    model_name,\n",
    "    torch_dtype=\"auto\",\n",
    "    device_map=\"auto\",\n",
    "    cache_dir=model_dir\n",
    ")\n",
    "\n"
   ]
  },
  {
   "cell_type": "code",
   "execution_count": 13,
   "metadata": {},
   "outputs": [
    {
     "data": {
      "text/plain": [
       "device(type='cuda', index=0)"
      ]
     },
     "execution_count": 13,
     "metadata": {},
     "output_type": "execute_result"
    }
   ],
   "source": [
    "model = model.to(\"cuda\")\n",
    "model.device"
   ]
  },
  {
   "cell_type": "code",
   "execution_count": 4,
   "metadata": {},
   "outputs": [],
   "source": [
    "tokenizer = AutoTokenizer.from_pretrained(model_name)"
   ]
  },
  {
   "cell_type": "code",
   "execution_count": 6,
   "metadata": {},
   "outputs": [],
   "source": [
    "prompt = \"\"\" Расскажи суть следующего диалога\n",
    "А. – Алло. Центр «Интерконгресс» .\n",
    "\n",
    "Б. – Здравствуйте. Радитехнический университет. Миронова Ольга. Я вам вчера звонила относительно симпозиума.\n",
    "\n",
    "А. – Добрый день. Слушаю вас.\n",
    "\n",
    "Б. – Вы можете предоставить нам помещение на сто тридцать – сто сорок человек?\n",
    "\n",
    "А. – Да. Мы можем забронировать для вас конференц-зал на сто пятьдесят мест.\n",
    "\n",
    "Б. – Это нам подходит, спасибо. А как оформить аренду мебели?\n",
    "\n",
    "А. – В заявке нужно точно указать названия всех предметов и их количество.\n",
    "\n",
    "Б. – Как отправить вам заявку?\n",
    "\n",
    "А. – Вы должны отправить на наш адрес гарантийное письмо. В нем вы и укажете все виды услуг и их стоимость.\n",
    "\n",
    "Б. – Понятно. Письмо можно отправить и по почте, и по факсу.\n",
    "\n",
    "А. – Да.\n",
    "\n",
    "Б. – И через сколько дней вы его получите?\n",
    "\n",
    "А. – Письмо идет обычно два-три дня.\n",
    "\n",
    "Б. – Это довольно долго.\n",
    "\n",
    "А. – Можно послать с нарочным, тогда оно придет к нам в течение двух часов.\n",
    "\n",
    "Б. – Так мы и сделаем. Спасибо большое за исчерпывающую информацию.\n",
    "\n",
    "А. – Пожалуйста. Всего доброго.\"\"\"\n",
    "messages = [\n",
    "    {\"role\": \"system\", \"content\": \"You are Qwen, created by Alibaba Cloud. You are a helpful assistant.\"},\n",
    "    {\"role\": \"user\", \"content\": prompt}\n",
    "]"
   ]
  },
  {
   "cell_type": "code",
   "execution_count": 7,
   "metadata": {},
   "outputs": [],
   "source": [
    "text = tokenizer.apply_chat_template(\n",
    "    messages,\n",
    "    tokenize=False,\n",
    "    add_generation_prompt=True\n",
    ")"
   ]
  },
  {
   "cell_type": "code",
   "execution_count": 8,
   "metadata": {},
   "outputs": [],
   "source": [
    "model_inputs = tokenizer([text], return_tensors=\"pt\").to(model.device)\n",
    "\n",
    "generated_ids = model.generate(\n",
    "    **model_inputs,\n",
    "    max_new_tokens=512\n",
    ")"
   ]
  },
  {
   "cell_type": "code",
   "execution_count": 9,
   "metadata": {},
   "outputs": [],
   "source": [
    "generated_ids = [\n",
    "    output_ids[len(input_ids):] for input_ids, output_ids in zip(model_inputs.input_ids, generated_ids)\n",
    "]"
   ]
  },
  {
   "cell_type": "code",
   "execution_count": 10,
   "metadata": {},
   "outputs": [
    {
     "name": "stdout",
     "output_type": "stream",
     "text": [
      "Суть диалога заключается в обсуждении вопросов, связанных с предоставлением аренды помещения для конференций. В частности:\n",
      "\n",
      "1. **Заказ аренды мебели**: Бесплатная аренда мебели (которая должна соответствовать заявленному количеству) требует конкретного определения всех предметов, которые будут использоваться в конференции, их количество, сроки получения и отправки заявки.\n",
      "\n",
      "2. **Послеоблачение**: Диалог описывает процесс оформления аренду мебели, который требует заполнения заявки, отправки письма с гарантией и получения ответа на запрос. \n",
      "\n",
      "3. **Перевод конфиденциальной информации**: Встречаются вопросы о том, как правильно передать информацию о заказе аренды мебели и о времени получения письма.\n",
      "\n",
      "4. **Ответственный подход**: Диалог показывает, что все вопросы решаются согласованно и быстро, что является ценным аспектом в работе конференц-индустрии.\n"
     ]
    }
   ],
   "source": [
    "response = tokenizer.batch_decode(generated_ids, skip_special_tokens=True)[0]\n",
    "print(response)"
   ]
  },
  {
   "cell_type": "code",
   "execution_count": null,
   "metadata": {},
   "outputs": [],
   "source": []
  }
 ],
 "metadata": {
  "kernelspec": {
   "display_name": "Python 3",
   "language": "python",
   "name": "python3"
  },
  "language_info": {
   "codemirror_mode": {
    "name": "ipython",
    "version": 3
   },
   "file_extension": ".py",
   "mimetype": "text/x-python",
   "name": "python",
   "nbconvert_exporter": "python",
   "pygments_lexer": "ipython3",
   "version": "3.11.10"
  }
 },
 "nbformat": 4,
 "nbformat_minor": 2
}
