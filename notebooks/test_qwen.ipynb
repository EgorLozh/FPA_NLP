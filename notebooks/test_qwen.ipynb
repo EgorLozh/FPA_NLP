{
 "cells": [
  {
   "cell_type": "code",
   "execution_count": 1,
   "metadata": {},
   "outputs": [
    {
     "data": {
      "text/plain": [
       "WindowsPath('C:/Users/egor/files/projects/FPA_NLP/models')"
      ]
     },
     "execution_count": 1,
     "metadata": {},
     "output_type": "execute_result"
    }
   ],
   "source": [
    "from transformers import AutoModelForCausalLM, AutoTokenizer\n",
    "import pathlib\n",
    "model_dir = pathlib.Path().resolve().parent/\"models\"\n",
    "model_name = \"Qwen/Qwen2.5-0.5B-Instruct\"\\\n",
    "\n",
    "model_dir"
   ]
  },
  {
   "cell_type": "code",
   "execution_count": 2,
   "metadata": {},
   "outputs": [],
   "source": [
    "model = AutoModelForCausalLM.from_pretrained(\n",
    "    model_name,\n",
    "    torch_dtype=\"auto\",\n",
    "    device_map=\"auto\",\n",
    "    cache_dir=model_dir\n",
    ")\n",
    "\n"
   ]
  },
  {
   "cell_type": "code",
   "execution_count": 3,
   "metadata": {},
   "outputs": [
    {
     "data": {
      "text/plain": [
       "device(type='cuda', index=0)"
      ]
     },
     "execution_count": 3,
     "metadata": {},
     "output_type": "execute_result"
    }
   ],
   "source": [
    "model = model.to(\"cuda\")\n",
    "model.device"
   ]
  },
  {
   "cell_type": "code",
   "execution_count": 4,
   "metadata": {},
   "outputs": [],
   "source": [
    "tokenizer = AutoTokenizer.from_pretrained(model_name)"
   ]
  },
  {
   "cell_type": "code",
   "execution_count": 5,
   "metadata": {},
   "outputs": [],
   "source": [
    "prompt = \"\"\" Расскажи суть следующего диалога\n",
    "А. – Алло. Центр «Интерконгресс» .\n",
    "\n",
    "Б. – Здравствуйте. Радитехнический университет. Миронова Ольга. Я вам вчера звонила относительно симпозиума.\n",
    "\n",
    "А. – Добрый день. Слушаю вас.\n",
    "\n",
    "Б. – Вы можете предоставить нам помещение на сто тридцать – сто сорок человек?\n",
    "\n",
    "А. – Да. Мы можем забронировать для вас конференц-зал на сто пятьдесят мест.\n",
    "\n",
    "Б. – Это нам подходит, спасибо. А как оформить аренду мебели?\n",
    "\n",
    "А. – В заявке нужно точно указать названия всех предметов и их количество.\n",
    "\n",
    "Б. – Как отправить вам заявку?\n",
    "\n",
    "А. – Вы должны отправить на наш адрес гарантийное письмо. В нем вы и укажете все виды услуг и их стоимость.\n",
    "\n",
    "Б. – Понятно. Письмо можно отправить и по почте, и по факсу.\n",
    "\n",
    "А. – Да.\n",
    "\n",
    "Б. – И через сколько дней вы его получите?\n",
    "\n",
    "А. – Письмо идет обычно два-три дня.\n",
    "\n",
    "Б. – Это довольно долго.\n",
    "\n",
    "А. – Можно послать с нарочным, тогда оно придет к нам в течение двух часов.\n",
    "\n",
    "Б. – Так мы и сделаем. Спасибо большое за исчерпывающую информацию.\n",
    "\n",
    "А. – Пожалуйста. Всего доброго.\"\"\"\n",
    "messages = [\n",
    "    {\"role\": \"system\", \"content\": \"You are Qwen, created by Alibaba Cloud. You are a helpful assistant.\"},\n",
    "    {\"role\": \"user\", \"content\": prompt}\n",
    "]"
   ]
  },
  {
   "cell_type": "code",
   "execution_count": 6,
   "metadata": {},
   "outputs": [],
   "source": [
    "text = tokenizer.apply_chat_template(\n",
    "    messages,\n",
    "    tokenize=False,\n",
    "    add_generation_prompt=True\n",
    ")"
   ]
  },
  {
   "cell_type": "code",
   "execution_count": null,
   "metadata": {},
   "outputs": [
    {
     "name": "stdout",
     "output_type": "stream",
     "text": [
      "<|im_start|>system\n",
      "You are Qwen, created by Alibaba Cloud. You are a helpful assistant.<|im_end|>\n",
      "<|im_start|>user\n",
      " Расскажи суть следующего диалога\n",
      "А. – Алло. Центр «Интерконгресс» .\n",
      "\n",
      "Б. – Здравствуйте. Радитехнический университет. Миронова Ольга. Я вам вчера звонила относительно симпозиума.\n",
      "\n",
      "А. – Добрый день. Слушаю вас.\n",
      "\n",
      "Б. – Вы можете предоставить нам помещение на сто тридцать – сто сорок человек?\n",
      "\n",
      "А. – Да. Мы можем забронировать для вас конференц-зал на сто пятьдесят мест.\n",
      "\n",
      "Б. – Это нам подходит, спасибо. А как оформить аренду мебели?\n",
      "\n",
      "А. – В заявке нужно точно указать названия всех предметов и их количество.\n",
      "\n",
      "Б. – Как отправить вам заявку?\n",
      "\n",
      "А. – Вы должны отправить на наш адрес гарантийное письмо. В нем вы и укажете все виды услуг и их стоимость.\n",
      "\n",
      "Б. – Понятно. Письмо можно отправить и по почте, и по факсу.\n",
      "\n",
      "А. – Да.\n",
      "\n",
      "Б. – И через сколько дней вы его получите?\n",
      "\n",
      "А. – Письмо идет обычно два-три дня.\n",
      "\n",
      "Б. – Это довольно долго.\n",
      "\n",
      "А. – Можно послать с нарочным, тогда оно придет к нам в течение двух часов.\n",
      "\n",
      "Б. – Так мы и сделаем. Спасибо большое за исчерпывающую информацию.\n",
      "\n",
      "А. – Пожалуйста. Всего доброго.<|im_end|>\n",
      "<|im_start|>assistant\n",
      "\n"
     ]
    }
   ],
   "source": [
    "model_inputs = tokenizer([text], return_tensors=\"pt\").to(model.device)\n",
    "\n",
    "generated_ids = model.generate(\n",
    "    **model_inputs,\n",
    "    max_new_tokens=512\n",
    ")"
   ]
  },
  {
   "cell_type": "code",
   "execution_count": 11,
   "metadata": {},
   "outputs": [],
   "source": [
    "generated_ids = [\n",
    "    output_ids[len(input_ids):] for input_ids, output_ids in zip(model_inputs.input_ids, generated_ids)\n",
    "]"
   ]
  },
  {
   "cell_type": "code",
   "execution_count": 12,
   "metadata": {},
   "outputs": [
    {
     "name": "stdout",
     "output_type": "stream",
     "text": [
      "Суть диалога заключается в обсуждении вопросов по организации и оформлению аренду мебели для проведения конференции или мероприятия. Важно отметить, что:\n",
      "\n",
      "1. Предоставление помещений - это ключевой момент для успешного проведения мероприятия.\n",
      "2. Обеспечение достоверной информации о возможных условиях аренды (название предметов, количество).\n",
      "3. Возможность отправки письма с гарантией.\n",
      "4. Контактная информация (почта или факс).\n",
      "\n",
      "Общие принципы:\n",
      "- Уточнение деталей согласно заявке\n",
      "- Отправка письма на указанные сроки\n",
      "- Прибытие объекта в течение определенного времени\n",
      "\n",
      "Таким образом, диалог показывает необходимость четкой и подробной подготовки для успешного проведения мероприятий, включая вопросы аренду мебели.\n"
     ]
    }
   ],
   "source": [
    "response = tokenizer.batch_decode(generated_ids, skip_special_tokens=True)[0]\n",
    "print(response)"
   ]
  },
  {
   "cell_type": "code",
   "execution_count": null,
   "metadata": {},
   "outputs": [],
   "source": []
  }
 ],
 "metadata": {
  "kernelspec": {
   "display_name": "conda_venv",
   "language": "python",
   "name": "python3"
  },
  "language_info": {
   "codemirror_mode": {
    "name": "ipython",
    "version": 3
   },
   "file_extension": ".py",
   "mimetype": "text/x-python",
   "name": "python",
   "nbconvert_exporter": "python",
   "pygments_lexer": "ipython3",
   "version": "3.12.7"
  }
 },
 "nbformat": 4,
 "nbformat_minor": 2
}
